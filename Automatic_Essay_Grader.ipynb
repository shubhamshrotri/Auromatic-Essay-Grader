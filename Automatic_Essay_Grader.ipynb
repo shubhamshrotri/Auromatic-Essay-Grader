{
 "cells": [
  {
   "cell_type": "markdown",
   "metadata": {},
   "source": [
    "## Import"
   ]
  },
  {
   "cell_type": "code",
   "execution_count": 1,
   "metadata": {},
   "outputs": [],
   "source": [
    "import numpy as np\n",
    "import pandas as pd\n",
    "import re as re\n",
    "import nltk as nltk\n",
    "from nltk.stem import WordNetLemmatizer\n",
    "import seaborn as sns\n",
    "%matplotlib inline\n",
    "from nltk.corpus import stopwords\n",
    "stop = stopwords.words('english')\n",
    "wordnet_lemmatizer = WordNetLemmatizer()\n",
    "from nltk.corpus import words\n",
    "from nltk.corpus import brown\n",
    "from nltk import pos_tag\n",
    "from collections import Counter\n",
    "from sklearn import metrics\n",
    "from sklearn.linear_model import LinearRegression \n",
    "import xgboost as xgb\n",
    "from sklearn.model_selection import train_test_split"
   ]
  },
  {
   "cell_type": "markdown",
   "metadata": {},
   "source": [
    "## Importing dataset"
   ]
  },
  {
   "cell_type": "code",
   "execution_count": 2,
   "metadata": {},
   "outputs": [
    {
     "ename": "FileNotFoundError",
     "evalue": "File b'globalenglish_essay_scoring.csv' does not exist",
     "output_type": "error",
     "traceback": [
      "\u001b[1;31m---------------------------------------------------------------------------\u001b[0m",
      "\u001b[1;31mFileNotFoundError\u001b[0m                         Traceback (most recent call last)",
      "\u001b[1;32m<ipython-input-2-ad8f25a7b6e1>\u001b[0m in \u001b[0;36m<module>\u001b[1;34m()\u001b[0m\n\u001b[1;32m----> 1\u001b[1;33m \u001b[0mfile\u001b[0m \u001b[1;33m=\u001b[0m \u001b[0mpd\u001b[0m\u001b[1;33m.\u001b[0m\u001b[0mread_csv\u001b[0m\u001b[1;33m(\u001b[0m\u001b[1;34m'globalenglish_essay_scoring.csv'\u001b[0m\u001b[1;33m,\u001b[0m \u001b[0mencoding\u001b[0m \u001b[1;33m=\u001b[0m \u001b[1;34m'latin1'\u001b[0m\u001b[1;33m)\u001b[0m\u001b[1;33m\u001b[0m\u001b[0m\n\u001b[0m",
      "\u001b[1;32m~\\Anaconda3\\lib\\site-packages\\pandas\\io\\parsers.py\u001b[0m in \u001b[0;36mparser_f\u001b[1;34m(filepath_or_buffer, sep, delimiter, header, names, index_col, usecols, squeeze, prefix, mangle_dupe_cols, dtype, engine, converters, true_values, false_values, skipinitialspace, skiprows, nrows, na_values, keep_default_na, na_filter, verbose, skip_blank_lines, parse_dates, infer_datetime_format, keep_date_col, date_parser, dayfirst, iterator, chunksize, compression, thousands, decimal, lineterminator, quotechar, quoting, escapechar, comment, encoding, dialect, tupleize_cols, error_bad_lines, warn_bad_lines, skipfooter, skip_footer, doublequote, delim_whitespace, as_recarray, compact_ints, use_unsigned, low_memory, buffer_lines, memory_map, float_precision)\u001b[0m\n\u001b[0;32m    707\u001b[0m                     skip_blank_lines=skip_blank_lines)\n\u001b[0;32m    708\u001b[0m \u001b[1;33m\u001b[0m\u001b[0m\n\u001b[1;32m--> 709\u001b[1;33m         \u001b[1;32mreturn\u001b[0m \u001b[0m_read\u001b[0m\u001b[1;33m(\u001b[0m\u001b[0mfilepath_or_buffer\u001b[0m\u001b[1;33m,\u001b[0m \u001b[0mkwds\u001b[0m\u001b[1;33m)\u001b[0m\u001b[1;33m\u001b[0m\u001b[0m\n\u001b[0m\u001b[0;32m    710\u001b[0m \u001b[1;33m\u001b[0m\u001b[0m\n\u001b[0;32m    711\u001b[0m     \u001b[0mparser_f\u001b[0m\u001b[1;33m.\u001b[0m\u001b[0m__name__\u001b[0m \u001b[1;33m=\u001b[0m \u001b[0mname\u001b[0m\u001b[1;33m\u001b[0m\u001b[0m\n",
      "\u001b[1;32m~\\Anaconda3\\lib\\site-packages\\pandas\\io\\parsers.py\u001b[0m in \u001b[0;36m_read\u001b[1;34m(filepath_or_buffer, kwds)\u001b[0m\n\u001b[0;32m    447\u001b[0m \u001b[1;33m\u001b[0m\u001b[0m\n\u001b[0;32m    448\u001b[0m     \u001b[1;31m# Create the parser.\u001b[0m\u001b[1;33m\u001b[0m\u001b[1;33m\u001b[0m\u001b[0m\n\u001b[1;32m--> 449\u001b[1;33m     \u001b[0mparser\u001b[0m \u001b[1;33m=\u001b[0m \u001b[0mTextFileReader\u001b[0m\u001b[1;33m(\u001b[0m\u001b[0mfilepath_or_buffer\u001b[0m\u001b[1;33m,\u001b[0m \u001b[1;33m**\u001b[0m\u001b[0mkwds\u001b[0m\u001b[1;33m)\u001b[0m\u001b[1;33m\u001b[0m\u001b[0m\n\u001b[0m\u001b[0;32m    450\u001b[0m \u001b[1;33m\u001b[0m\u001b[0m\n\u001b[0;32m    451\u001b[0m     \u001b[1;32mif\u001b[0m \u001b[0mchunksize\u001b[0m \u001b[1;32mor\u001b[0m \u001b[0miterator\u001b[0m\u001b[1;33m:\u001b[0m\u001b[1;33m\u001b[0m\u001b[0m\n",
      "\u001b[1;32m~\\Anaconda3\\lib\\site-packages\\pandas\\io\\parsers.py\u001b[0m in \u001b[0;36m__init__\u001b[1;34m(self, f, engine, **kwds)\u001b[0m\n\u001b[0;32m    816\u001b[0m             \u001b[0mself\u001b[0m\u001b[1;33m.\u001b[0m\u001b[0moptions\u001b[0m\u001b[1;33m[\u001b[0m\u001b[1;34m'has_index_names'\u001b[0m\u001b[1;33m]\u001b[0m \u001b[1;33m=\u001b[0m \u001b[0mkwds\u001b[0m\u001b[1;33m[\u001b[0m\u001b[1;34m'has_index_names'\u001b[0m\u001b[1;33m]\u001b[0m\u001b[1;33m\u001b[0m\u001b[0m\n\u001b[0;32m    817\u001b[0m \u001b[1;33m\u001b[0m\u001b[0m\n\u001b[1;32m--> 818\u001b[1;33m         \u001b[0mself\u001b[0m\u001b[1;33m.\u001b[0m\u001b[0m_make_engine\u001b[0m\u001b[1;33m(\u001b[0m\u001b[0mself\u001b[0m\u001b[1;33m.\u001b[0m\u001b[0mengine\u001b[0m\u001b[1;33m)\u001b[0m\u001b[1;33m\u001b[0m\u001b[0m\n\u001b[0m\u001b[0;32m    819\u001b[0m \u001b[1;33m\u001b[0m\u001b[0m\n\u001b[0;32m    820\u001b[0m     \u001b[1;32mdef\u001b[0m \u001b[0mclose\u001b[0m\u001b[1;33m(\u001b[0m\u001b[0mself\u001b[0m\u001b[1;33m)\u001b[0m\u001b[1;33m:\u001b[0m\u001b[1;33m\u001b[0m\u001b[0m\n",
      "\u001b[1;32m~\\Anaconda3\\lib\\site-packages\\pandas\\io\\parsers.py\u001b[0m in \u001b[0;36m_make_engine\u001b[1;34m(self, engine)\u001b[0m\n\u001b[0;32m   1047\u001b[0m     \u001b[1;32mdef\u001b[0m \u001b[0m_make_engine\u001b[0m\u001b[1;33m(\u001b[0m\u001b[0mself\u001b[0m\u001b[1;33m,\u001b[0m \u001b[0mengine\u001b[0m\u001b[1;33m=\u001b[0m\u001b[1;34m'c'\u001b[0m\u001b[1;33m)\u001b[0m\u001b[1;33m:\u001b[0m\u001b[1;33m\u001b[0m\u001b[0m\n\u001b[0;32m   1048\u001b[0m         \u001b[1;32mif\u001b[0m \u001b[0mengine\u001b[0m \u001b[1;33m==\u001b[0m \u001b[1;34m'c'\u001b[0m\u001b[1;33m:\u001b[0m\u001b[1;33m\u001b[0m\u001b[0m\n\u001b[1;32m-> 1049\u001b[1;33m             \u001b[0mself\u001b[0m\u001b[1;33m.\u001b[0m\u001b[0m_engine\u001b[0m \u001b[1;33m=\u001b[0m \u001b[0mCParserWrapper\u001b[0m\u001b[1;33m(\u001b[0m\u001b[0mself\u001b[0m\u001b[1;33m.\u001b[0m\u001b[0mf\u001b[0m\u001b[1;33m,\u001b[0m \u001b[1;33m**\u001b[0m\u001b[0mself\u001b[0m\u001b[1;33m.\u001b[0m\u001b[0moptions\u001b[0m\u001b[1;33m)\u001b[0m\u001b[1;33m\u001b[0m\u001b[0m\n\u001b[0m\u001b[0;32m   1050\u001b[0m         \u001b[1;32melse\u001b[0m\u001b[1;33m:\u001b[0m\u001b[1;33m\u001b[0m\u001b[0m\n\u001b[0;32m   1051\u001b[0m             \u001b[1;32mif\u001b[0m \u001b[0mengine\u001b[0m \u001b[1;33m==\u001b[0m \u001b[1;34m'python'\u001b[0m\u001b[1;33m:\u001b[0m\u001b[1;33m\u001b[0m\u001b[0m\n",
      "\u001b[1;32m~\\Anaconda3\\lib\\site-packages\\pandas\\io\\parsers.py\u001b[0m in \u001b[0;36m__init__\u001b[1;34m(self, src, **kwds)\u001b[0m\n\u001b[0;32m   1693\u001b[0m         \u001b[0mkwds\u001b[0m\u001b[1;33m[\u001b[0m\u001b[1;34m'allow_leading_cols'\u001b[0m\u001b[1;33m]\u001b[0m \u001b[1;33m=\u001b[0m \u001b[0mself\u001b[0m\u001b[1;33m.\u001b[0m\u001b[0mindex_col\u001b[0m \u001b[1;32mis\u001b[0m \u001b[1;32mnot\u001b[0m \u001b[1;32mFalse\u001b[0m\u001b[1;33m\u001b[0m\u001b[0m\n\u001b[0;32m   1694\u001b[0m \u001b[1;33m\u001b[0m\u001b[0m\n\u001b[1;32m-> 1695\u001b[1;33m         \u001b[0mself\u001b[0m\u001b[1;33m.\u001b[0m\u001b[0m_reader\u001b[0m \u001b[1;33m=\u001b[0m \u001b[0mparsers\u001b[0m\u001b[1;33m.\u001b[0m\u001b[0mTextReader\u001b[0m\u001b[1;33m(\u001b[0m\u001b[0msrc\u001b[0m\u001b[1;33m,\u001b[0m \u001b[1;33m**\u001b[0m\u001b[0mkwds\u001b[0m\u001b[1;33m)\u001b[0m\u001b[1;33m\u001b[0m\u001b[0m\n\u001b[0m\u001b[0;32m   1696\u001b[0m \u001b[1;33m\u001b[0m\u001b[0m\n\u001b[0;32m   1697\u001b[0m         \u001b[1;31m# XXX\u001b[0m\u001b[1;33m\u001b[0m\u001b[1;33m\u001b[0m\u001b[0m\n",
      "\u001b[1;32mpandas/_libs/parsers.pyx\u001b[0m in \u001b[0;36mpandas._libs.parsers.TextReader.__cinit__\u001b[1;34m()\u001b[0m\n",
      "\u001b[1;32mpandas/_libs/parsers.pyx\u001b[0m in \u001b[0;36mpandas._libs.parsers.TextReader._setup_parser_source\u001b[1;34m()\u001b[0m\n",
      "\u001b[1;31mFileNotFoundError\u001b[0m: File b'globalenglish_essay_scoring.csv' does not exist"
     ]
    }
   ],
   "source": [
    "file = pd.read_csv('globalenglish_essay_scoring.csv', encoding = 'latin1')"
   ]
  },
  {
   "cell_type": "code",
   "execution_count": 3,
   "metadata": {
    "collapsed": true
   },
   "outputs": [],
   "source": [
    "file = file.drop(['rater1_domain1','rater2_domain1','essay_id'], axis = 1)"
   ]
  },
  {
   "cell_type": "markdown",
   "metadata": {},
   "source": [
    "## Tokenizer function"
   ]
  },
  {
   "cell_type": "code",
   "execution_count": 4,
   "metadata": {
    "collapsed": true
   },
   "outputs": [],
   "source": [
    "def my_tokenizer(s):\n",
    "    s = s.lower() # downcase\n",
    "    tokens = nltk.tokenize.word_tokenize(s)\n",
    "    tokens = [t for t in tokens if len(t) > 2]\n",
    "    tokens = [wordnet_lemmatizer.lemmatize(t) for t in tokens]\n",
    "    tokens = [t for t in tokens if t not in stop]\n",
    "    return tokens"
   ]
  },
  {
   "cell_type": "markdown",
   "metadata": {},
   "source": [
    "## Tokenizing essays"
   ]
  },
  {
   "cell_type": "code",
   "execution_count": 5,
   "metadata": {
    "collapsed": true
   },
   "outputs": [],
   "source": [
    "file['essay'] = [my_tokenizer(file['essay'][i]) for i in range(0,12978)]"
   ]
  },
  {
   "cell_type": "markdown",
   "metadata": {},
   "source": [
    "## Extracting first feature: Essay words\n",
    " Number of words in essay is basic feature to determine whether length of essay is important criteria or not. "
   ]
  },
  {
   "cell_type": "code",
   "execution_count": 6,
   "metadata": {
    "collapsed": true
   },
   "outputs": [],
   "source": [
    "a=file['essay'].apply(len)"
   ]
  },
  {
   "cell_type": "code",
   "execution_count": 7,
   "metadata": {
    "collapsed": true
   },
   "outputs": [],
   "source": [
    "file = pd.concat([file,a], axis=1)"
   ]
  },
  {
   "cell_type": "code",
   "execution_count": 8,
   "metadata": {
    "collapsed": true
   },
   "outputs": [],
   "source": [
    "file.columns=['essay_set','essay','domain1_score','essay_words']"
   ]
  },
  {
   "cell_type": "markdown",
   "metadata": {},
   "source": [
    "## Extracting second feature: Average length of words\n",
    "\n",
    "Avgerage length of words used in essay can be importanr in determining how big words student is using to demonstrate his ideas and his command on vocavulary."
   ]
  },
  {
   "cell_type": "code",
   "execution_count": 9,
   "metadata": {
    "collapsed": true
   },
   "outputs": [],
   "source": [
    "essay_avg_word = [sum(len(i) for i in file['essay'][j]) for j in range(0,12978)]"
   ]
  },
  {
   "cell_type": "code",
   "execution_count": 10,
   "metadata": {
    "collapsed": true
   },
   "outputs": [],
   "source": [
    "c = [essay_avg_word[i]/file['essay_words'][i] for i in range(0,12978)]"
   ]
  },
  {
   "cell_type": "code",
   "execution_count": 11,
   "metadata": {
    "collapsed": true
   },
   "outputs": [],
   "source": [
    "c = pd.Series(c)"
   ]
  },
  {
   "cell_type": "code",
   "execution_count": 12,
   "metadata": {
    "collapsed": true
   },
   "outputs": [],
   "source": [
    "file = pd.concat([file,c],axis =1 )"
   ]
  },
  {
   "cell_type": "code",
   "execution_count": 13,
   "metadata": {
    "collapsed": true
   },
   "outputs": [],
   "source": [
    "file.columns= ['essay_set','essay','domain1_score','essay_words','essay_len_words']"
   ]
  },
  {
   "cell_type": "markdown",
   "metadata": {},
   "source": [
    "## Extracting Third feature: Spelling mistakes.\n",
    "\n",
    "By comparing words used in essay and lexicon like words we can find out spelling mistakes and how they are affecting score. But as there is collinearity in length of essay and number of spelling mistakes, I considered percentage of spelling misakes instead of number of spelling mistakes."
   ]
  },
  {
   "cell_type": "code",
   "execution_count": 14,
   "metadata": {
    "collapsed": true
   },
   "outputs": [],
   "source": [
    "word_list= words.words()\n",
    "word_set= set(word_list)"
   ]
  },
  {
   "cell_type": "code",
   "execution_count": 4,
   "metadata": {},
   "outputs": [
    {
     "ename": "NameError",
     "evalue": "name 'file' is not defined",
     "output_type": "error",
     "traceback": [
      "\u001b[1;31m---------------------------------------------------------------------------\u001b[0m",
      "\u001b[1;31mNameError\u001b[0m                                 Traceback (most recent call last)",
      "\u001b[1;32m<ipython-input-4-dc736765db8e>\u001b[0m in \u001b[0;36m<module>\u001b[1;34m()\u001b[0m\n\u001b[1;32m----> 1\u001b[1;33m \u001b[0mspell\u001b[0m \u001b[1;33m=\u001b[0m \u001b[0mfile\u001b[0m\u001b[1;33m[\u001b[0m\u001b[1;34m'essay'\u001b[0m\u001b[1;33m]\u001b[0m\u001b[1;33m.\u001b[0m\u001b[0mapply\u001b[0m\u001b[1;33m(\u001b[0m\u001b[1;32mlambda\u001b[0m \u001b[0mx\u001b[0m\u001b[1;33m:\u001b[0m \u001b[1;34m' '\u001b[0m\u001b[1;33m.\u001b[0m\u001b[0mjoin\u001b[0m\u001b[1;33m(\u001b[0m\u001b[1;33m[\u001b[0m\u001b[0mword\u001b[0m \u001b[1;32mfor\u001b[0m \u001b[0mword\u001b[0m \u001b[1;32min\u001b[0m \u001b[0mx\u001b[0m \u001b[1;32mif\u001b[0m \u001b[0mword\u001b[0m \u001b[1;32mnot\u001b[0m \u001b[1;32min\u001b[0m \u001b[1;33m(\u001b[0m\u001b[0mword_set\u001b[0m\u001b[1;33m)\u001b[0m\u001b[1;33m]\u001b[0m\u001b[1;33m)\u001b[0m\u001b[1;33m)\u001b[0m\u001b[1;33m\u001b[0m\u001b[0m\n\u001b[0m",
      "\u001b[1;31mNameError\u001b[0m: name 'file' is not defined"
     ]
    }
   ],
   "source": [
    "spell = file['essay'].apply(lambda x: ' '.join([word for word in x if word not in (word_set)]))"
   ]
  },
  {
   "cell_type": "code",
   "execution_count": 3,
   "metadata": {},
   "outputs": [
    {
     "ename": "NameError",
     "evalue": "name 'spell' is not defined",
     "output_type": "error",
     "traceback": [
      "\u001b[1;31m---------------------------------------------------------------------------\u001b[0m",
      "\u001b[1;31mNameError\u001b[0m                                 Traceback (most recent call last)",
      "\u001b[1;32m<ipython-input-3-7c6545cbf763>\u001b[0m in \u001b[0;36m<module>\u001b[1;34m()\u001b[0m\n\u001b[1;32m----> 1\u001b[1;33m \u001b[0mtype\u001b[0m\u001b[1;33m(\u001b[0m\u001b[0mspell\u001b[0m\u001b[1;33m)\u001b[0m\u001b[1;33m\u001b[0m\u001b[0m\n\u001b[0m",
      "\u001b[1;31mNameError\u001b[0m: name 'spell' is not defined"
     ]
    }
   ],
   "source": [
    "type(spell)"
   ]
  },
  {
   "cell_type": "code",
   "execution_count": 16,
   "metadata": {
    "collapsed": true
   },
   "outputs": [],
   "source": [
    "df_2 = spell.apply(nltk.word_tokenize)"
   ]
  },
  {
   "cell_type": "code",
   "execution_count": 17,
   "metadata": {
    "collapsed": true
   },
   "outputs": [],
   "source": [
    "b=df_2.apply(len)"
   ]
  },
  {
   "cell_type": "code",
   "execution_count": 18,
   "metadata": {
    "collapsed": true
   },
   "outputs": [],
   "source": [
    "file = pd.concat([file,b], axis=1)"
   ]
  },
  {
   "cell_type": "code",
   "execution_count": 19,
   "metadata": {
    "collapsed": true
   },
   "outputs": [],
   "source": [
    "file.columns=['essay_set', 'essay', 'domain1_score', 'essay_words', 'essay_len_words','spell']"
   ]
  },
  {
   "cell_type": "code",
   "execution_count": 20,
   "metadata": {
    "collapsed": true
   },
   "outputs": [],
   "source": [
    "file['spell_check'] = file['spell']/file['essay_words']"
   ]
  },
  {
   "cell_type": "code",
   "execution_count": 21,
   "metadata": {
    "collapsed": true
   },
   "outputs": [],
   "source": [
    "file.drop(['spell'], axis =1, inplace = True)"
   ]
  },
  {
   "cell_type": "code",
   "execution_count": 22,
   "metadata": {},
   "outputs": [
    {
     "data": {
      "text/html": [
       "<div>\n",
       "<style>\n",
       "    .dataframe thead tr:only-child th {\n",
       "        text-align: right;\n",
       "    }\n",
       "\n",
       "    .dataframe thead th {\n",
       "        text-align: left;\n",
       "    }\n",
       "\n",
       "    .dataframe tbody tr th {\n",
       "        vertical-align: top;\n",
       "    }\n",
       "</style>\n",
       "<table border=\"1\" class=\"dataframe\">\n",
       "  <thead>\n",
       "    <tr style=\"text-align: right;\">\n",
       "      <th></th>\n",
       "      <th>essay_set</th>\n",
       "      <th>essay</th>\n",
       "      <th>domain1_score</th>\n",
       "      <th>essay_words</th>\n",
       "      <th>essay_len_words</th>\n",
       "      <th>spell_check</th>\n",
       "    </tr>\n",
       "  </thead>\n",
       "  <tbody>\n",
       "    <tr>\n",
       "      <th>0</th>\n",
       "      <td>1</td>\n",
       "      <td>[dear, local, newspaper, think, effect, comput...</td>\n",
       "      <td>8.0</td>\n",
       "      <td>157</td>\n",
       "      <td>5.891720</td>\n",
       "      <td>0.184713</td>\n",
       "    </tr>\n",
       "    <tr>\n",
       "      <th>1</th>\n",
       "      <td>1</td>\n",
       "      <td>[dear, caps1, caps2, believe, using, computer,...</td>\n",
       "      <td>9.0</td>\n",
       "      <td>218</td>\n",
       "      <td>5.623853</td>\n",
       "      <td>0.211009</td>\n",
       "    </tr>\n",
       "    <tr>\n",
       "      <th>2</th>\n",
       "      <td>1</td>\n",
       "      <td>[dear, caps1, caps2, caps3, people, use, compu...</td>\n",
       "      <td>7.0</td>\n",
       "      <td>139</td>\n",
       "      <td>5.805755</td>\n",
       "      <td>0.158273</td>\n",
       "    </tr>\n",
       "    <tr>\n",
       "      <th>3</th>\n",
       "      <td>1</td>\n",
       "      <td>[dear, local, newspaper, caps1, found, many, e...</td>\n",
       "      <td>10.0</td>\n",
       "      <td>299</td>\n",
       "      <td>6.180602</td>\n",
       "      <td>0.287625</td>\n",
       "    </tr>\n",
       "    <tr>\n",
       "      <th>4</th>\n",
       "      <td>1</td>\n",
       "      <td>[dear, location1, know, computer, ha, positive...</td>\n",
       "      <td>8.0</td>\n",
       "      <td>223</td>\n",
       "      <td>5.802691</td>\n",
       "      <td>0.134529</td>\n",
       "    </tr>\n",
       "    <tr>\n",
       "      <th>5</th>\n",
       "      <td>1</td>\n",
       "      <td>[dear, location1, think, computer, negative, a...</td>\n",
       "      <td>8.0</td>\n",
       "      <td>106</td>\n",
       "      <td>5.650943</td>\n",
       "      <td>0.198113</td>\n",
       "    </tr>\n",
       "    <tr>\n",
       "      <th>6</th>\n",
       "      <td>1</td>\n",
       "      <td>[know, people, day, depending, computer, safet...</td>\n",
       "      <td>10.0</td>\n",
       "      <td>261</td>\n",
       "      <td>5.708812</td>\n",
       "      <td>0.107280</td>\n",
       "    </tr>\n",
       "    <tr>\n",
       "      <th>7</th>\n",
       "      <td>1</td>\n",
       "      <td>[percent1, people, agree, computer, make, life...</td>\n",
       "      <td>10.0</td>\n",
       "      <td>252</td>\n",
       "      <td>5.821429</td>\n",
       "      <td>0.178571</td>\n",
       "    </tr>\n",
       "    <tr>\n",
       "      <th>8</th>\n",
       "      <td>1</td>\n",
       "      <td>[dear, reader, organization1, ha, dramatic, ef...</td>\n",
       "      <td>9.0</td>\n",
       "      <td>225</td>\n",
       "      <td>5.506667</td>\n",
       "      <td>0.137778</td>\n",
       "    </tr>\n",
       "    <tr>\n",
       "      <th>9</th>\n",
       "      <td>1</td>\n",
       "      <td>[location1, technology, computer, say, compute...</td>\n",
       "      <td>9.0</td>\n",
       "      <td>227</td>\n",
       "      <td>5.365639</td>\n",
       "      <td>0.202643</td>\n",
       "    </tr>\n",
       "    <tr>\n",
       "      <th>10</th>\n",
       "      <td>1</td>\n",
       "      <td>[dear, location1, caps1, people, acknowledge, ...</td>\n",
       "      <td>8.0</td>\n",
       "      <td>183</td>\n",
       "      <td>6.185792</td>\n",
       "      <td>0.169399</td>\n",
       "    </tr>\n",
       "    <tr>\n",
       "      <th>11</th>\n",
       "      <td>1</td>\n",
       "      <td>[dear, caps1, caps2, feel, computer, take, awa...</td>\n",
       "      <td>8.0</td>\n",
       "      <td>199</td>\n",
       "      <td>5.648241</td>\n",
       "      <td>0.231156</td>\n",
       "    </tr>\n",
       "    <tr>\n",
       "      <th>12</th>\n",
       "      <td>1</td>\n",
       "      <td>[dear, local, newspaper, raed, argument, compu...</td>\n",
       "      <td>7.0</td>\n",
       "      <td>93</td>\n",
       "      <td>5.225806</td>\n",
       "      <td>0.172043</td>\n",
       "    </tr>\n",
       "    <tr>\n",
       "      <th>13</th>\n",
       "      <td>1</td>\n",
       "      <td>[three, detaileds, news, paper, article, one, ...</td>\n",
       "      <td>6.0</td>\n",
       "      <td>167</td>\n",
       "      <td>5.311377</td>\n",
       "      <td>0.209581</td>\n",
       "    </tr>\n",
       "    <tr>\n",
       "      <th>14</th>\n",
       "      <td>1</td>\n",
       "      <td>[dear, world, today, everyone, useing, compute...</td>\n",
       "      <td>6.0</td>\n",
       "      <td>95</td>\n",
       "      <td>5.694737</td>\n",
       "      <td>0.189474</td>\n",
       "    </tr>\n",
       "    <tr>\n",
       "      <th>15</th>\n",
       "      <td>1</td>\n",
       "      <td>[dear, organization1, computer, blinked, life,...</td>\n",
       "      <td>12.0</td>\n",
       "      <td>309</td>\n",
       "      <td>6.051780</td>\n",
       "      <td>0.168285</td>\n",
       "    </tr>\n",
       "    <tr>\n",
       "      <th>16</th>\n",
       "      <td>1</td>\n",
       "      <td>[dear, local, newspaper, belive, computer, neg...</td>\n",
       "      <td>8.0</td>\n",
       "      <td>145</td>\n",
       "      <td>5.524138</td>\n",
       "      <td>0.151724</td>\n",
       "    </tr>\n",
       "    <tr>\n",
       "      <th>17</th>\n",
       "      <td>1</td>\n",
       "      <td>[dear, local, newspaper, must, admit, expert, ...</td>\n",
       "      <td>8.0</td>\n",
       "      <td>169</td>\n",
       "      <td>5.372781</td>\n",
       "      <td>0.118343</td>\n",
       "    </tr>\n",
       "    <tr>\n",
       "      <th>18</th>\n",
       "      <td>1</td>\n",
       "      <td>[aegre, waf, evansmant, tnachnolage, evansmant...</td>\n",
       "      <td>4.0</td>\n",
       "      <td>37</td>\n",
       "      <td>5.972973</td>\n",
       "      <td>0.810811</td>\n",
       "    </tr>\n",
       "    <tr>\n",
       "      <th>19</th>\n",
       "      <td>1</td>\n",
       "      <td>[well, computer, good, bad, thing, caps1, real...</td>\n",
       "      <td>6.0</td>\n",
       "      <td>89</td>\n",
       "      <td>5.584270</td>\n",
       "      <td>0.146067</td>\n",
       "    </tr>\n",
       "    <tr>\n",
       "      <th>20</th>\n",
       "      <td>1</td>\n",
       "      <td>[dear, caps1, caps2, caps3, daily, writing, ad...</td>\n",
       "      <td>8.0</td>\n",
       "      <td>182</td>\n",
       "      <td>5.912088</td>\n",
       "      <td>0.137363</td>\n",
       "    </tr>\n",
       "    <tr>\n",
       "      <th>21</th>\n",
       "      <td>1</td>\n",
       "      <td>[dear, local, newspaper, caps1, take, computer...</td>\n",
       "      <td>3.0</td>\n",
       "      <td>31</td>\n",
       "      <td>5.677419</td>\n",
       "      <td>0.096774</td>\n",
       "    </tr>\n",
       "    <tr>\n",
       "      <th>22</th>\n",
       "      <td>1</td>\n",
       "      <td>[dear, local, newspaper, caps1, ever, see, chi...</td>\n",
       "      <td>10.0</td>\n",
       "      <td>262</td>\n",
       "      <td>5.549618</td>\n",
       "      <td>0.209924</td>\n",
       "    </tr>\n",
       "    <tr>\n",
       "      <th>23</th>\n",
       "      <td>1</td>\n",
       "      <td>[dear, local, newspaper, 've, heard, many, peo...</td>\n",
       "      <td>11.0</td>\n",
       "      <td>298</td>\n",
       "      <td>5.872483</td>\n",
       "      <td>0.224832</td>\n",
       "    </tr>\n",
       "    <tr>\n",
       "      <th>24</th>\n",
       "      <td>1</td>\n",
       "      <td>[dear, caps1, caps2, beileve, computer, helpfu...</td>\n",
       "      <td>8.0</td>\n",
       "      <td>148</td>\n",
       "      <td>6.000000</td>\n",
       "      <td>0.148649</td>\n",
       "    </tr>\n",
       "    <tr>\n",
       "      <th>25</th>\n",
       "      <td>1</td>\n",
       "      <td>[think, computer, useless, think, could, usefu...</td>\n",
       "      <td>9.0</td>\n",
       "      <td>177</td>\n",
       "      <td>5.819209</td>\n",
       "      <td>0.220339</td>\n",
       "    </tr>\n",
       "    <tr>\n",
       "      <th>26</th>\n",
       "      <td>1</td>\n",
       "      <td>[computer, good, get, infermation, play, game,...</td>\n",
       "      <td>4.0</td>\n",
       "      <td>61</td>\n",
       "      <td>5.147541</td>\n",
       "      <td>0.262295</td>\n",
       "    </tr>\n",
       "    <tr>\n",
       "      <th>27</th>\n",
       "      <td>1</td>\n",
       "      <td>[dear, newspaper, computer, high, tec, expande...</td>\n",
       "      <td>9.0</td>\n",
       "      <td>200</td>\n",
       "      <td>5.565000</td>\n",
       "      <td>0.175000</td>\n",
       "    </tr>\n",
       "    <tr>\n",
       "      <th>28</th>\n",
       "      <td>1</td>\n",
       "      <td>[dear, local, newspaper, caps1, people, throug...</td>\n",
       "      <td>9.0</td>\n",
       "      <td>171</td>\n",
       "      <td>5.941520</td>\n",
       "      <td>0.216374</td>\n",
       "    </tr>\n",
       "    <tr>\n",
       "      <th>29</th>\n",
       "      <td>1</td>\n",
       "      <td>[dear, newspaper, people, think, computer, ben...</td>\n",
       "      <td>8.0</td>\n",
       "      <td>137</td>\n",
       "      <td>5.547445</td>\n",
       "      <td>0.153285</td>\n",
       "    </tr>\n",
       "    <tr>\n",
       "      <th>...</th>\n",
       "      <td>...</td>\n",
       "      <td>...</td>\n",
       "      <td>...</td>\n",
       "      <td>...</td>\n",
       "      <td>...</td>\n",
       "      <td>...</td>\n",
       "    </tr>\n",
       "    <tr>\n",
       "      <th>12948</th>\n",
       "      <td>8</td>\n",
       "      <td>[understand, benefit, laughter, laughter, defi...</td>\n",
       "      <td>40.0</td>\n",
       "      <td>232</td>\n",
       "      <td>5.698276</td>\n",
       "      <td>0.073276</td>\n",
       "    </tr>\n",
       "    <tr>\n",
       "      <th>12949</th>\n",
       "      <td>8</td>\n",
       "      <td>[wa, midsummer, could, feel, cool, ocean, bree...</td>\n",
       "      <td>32.0</td>\n",
       "      <td>277</td>\n",
       "      <td>5.057762</td>\n",
       "      <td>0.129964</td>\n",
       "    </tr>\n",
       "    <tr>\n",
       "      <th>12950</th>\n",
       "      <td>8</td>\n",
       "      <td>[ever, experienced, time, friend, family, laug...</td>\n",
       "      <td>36.0</td>\n",
       "      <td>184</td>\n",
       "      <td>5.206522</td>\n",
       "      <td>0.125000</td>\n",
       "    </tr>\n",
       "    <tr>\n",
       "      <th>12951</th>\n",
       "      <td>8</td>\n",
       "      <td>[woke, like, day, happy, yet, lacking, sleep, ...</td>\n",
       "      <td>31.0</td>\n",
       "      <td>189</td>\n",
       "      <td>4.814815</td>\n",
       "      <td>0.137566</td>\n",
       "    </tr>\n",
       "    <tr>\n",
       "      <th>12952</th>\n",
       "      <td>8</td>\n",
       "      <td>[laughter, important, part, life, either, frie...</td>\n",
       "      <td>30.0</td>\n",
       "      <td>196</td>\n",
       "      <td>5.163265</td>\n",
       "      <td>0.193878</td>\n",
       "    </tr>\n",
       "    <tr>\n",
       "      <th>12953</th>\n",
       "      <td>8</td>\n",
       "      <td>[sat, table, speechless, told, story, caps1, l...</td>\n",
       "      <td>47.0</td>\n",
       "      <td>429</td>\n",
       "      <td>5.062937</td>\n",
       "      <td>0.179487</td>\n",
       "    </tr>\n",
       "    <tr>\n",
       "      <th>12954</th>\n",
       "      <td>8</td>\n",
       "      <td>[remember, back, wa, date1, wa, hot, humid, da...</td>\n",
       "      <td>40.0</td>\n",
       "      <td>217</td>\n",
       "      <td>5.092166</td>\n",
       "      <td>0.175115</td>\n",
       "    </tr>\n",
       "    <tr>\n",
       "      <th>12955</th>\n",
       "      <td>8</td>\n",
       "      <td>[eye, wa, like, wa, looking, warm, carribean, ...</td>\n",
       "      <td>35.0</td>\n",
       "      <td>232</td>\n",
       "      <td>5.116379</td>\n",
       "      <td>0.168103</td>\n",
       "    </tr>\n",
       "    <tr>\n",
       "      <th>12956</th>\n",
       "      <td>8</td>\n",
       "      <td>[say, laugh, common, language, people, people,...</td>\n",
       "      <td>33.0</td>\n",
       "      <td>240</td>\n",
       "      <td>5.720833</td>\n",
       "      <td>0.200000</td>\n",
       "    </tr>\n",
       "    <tr>\n",
       "      <th>12957</th>\n",
       "      <td>8</td>\n",
       "      <td>[laughter, integral, element, many, situation,...</td>\n",
       "      <td>36.0</td>\n",
       "      <td>144</td>\n",
       "      <td>5.951389</td>\n",
       "      <td>0.111111</td>\n",
       "    </tr>\n",
       "    <tr>\n",
       "      <th>12958</th>\n",
       "      <td>8</td>\n",
       "      <td>[one, time, wa, friend, person1, house, dog, p...</td>\n",
       "      <td>36.0</td>\n",
       "      <td>206</td>\n",
       "      <td>4.878641</td>\n",
       "      <td>0.203883</td>\n",
       "    </tr>\n",
       "    <tr>\n",
       "      <th>12959</th>\n",
       "      <td>8</td>\n",
       "      <td>[laughter, caps1, know, laughter, healing, med...</td>\n",
       "      <td>48.0</td>\n",
       "      <td>417</td>\n",
       "      <td>5.649880</td>\n",
       "      <td>0.179856</td>\n",
       "    </tr>\n",
       "    <tr>\n",
       "      <th>12960</th>\n",
       "      <td>8</td>\n",
       "      <td>[one, thing, people, world, love, laugh, like,...</td>\n",
       "      <td>40.0</td>\n",
       "      <td>261</td>\n",
       "      <td>5.854406</td>\n",
       "      <td>0.030651</td>\n",
       "    </tr>\n",
       "    <tr>\n",
       "      <th>12961</th>\n",
       "      <td>8</td>\n",
       "      <td>[laughter, important, aspect, relationship, an...</td>\n",
       "      <td>40.0</td>\n",
       "      <td>305</td>\n",
       "      <td>6.059016</td>\n",
       "      <td>0.088525</td>\n",
       "    </tr>\n",
       "    <tr>\n",
       "      <th>12962</th>\n",
       "      <td>8</td>\n",
       "      <td>[people, always, say, worst, part, life, sad, ...</td>\n",
       "      <td>40.0</td>\n",
       "      <td>412</td>\n",
       "      <td>5.317961</td>\n",
       "      <td>0.099515</td>\n",
       "    </tr>\n",
       "    <tr>\n",
       "      <th>12963</th>\n",
       "      <td>8</td>\n",
       "      <td>[people, look, back, something, laugh, action,...</td>\n",
       "      <td>42.0</td>\n",
       "      <td>430</td>\n",
       "      <td>5.562791</td>\n",
       "      <td>0.225581</td>\n",
       "    </tr>\n",
       "    <tr>\n",
       "      <th>12964</th>\n",
       "      <td>8</td>\n",
       "      <td>[best, friend, moved, away, would, stay, night...</td>\n",
       "      <td>40.0</td>\n",
       "      <td>363</td>\n",
       "      <td>5.567493</td>\n",
       "      <td>0.146006</td>\n",
       "    </tr>\n",
       "    <tr>\n",
       "      <th>12965</th>\n",
       "      <td>8</td>\n",
       "      <td>[organization1, date1, caps1, birthday, went, ...</td>\n",
       "      <td>32.0</td>\n",
       "      <td>387</td>\n",
       "      <td>5.049096</td>\n",
       "      <td>0.286822</td>\n",
       "    </tr>\n",
       "    <tr>\n",
       "      <th>12966</th>\n",
       "      <td>8</td>\n",
       "      <td>[morose, somnolent, woke, woke, location1, goi...</td>\n",
       "      <td>36.0</td>\n",
       "      <td>320</td>\n",
       "      <td>5.378125</td>\n",
       "      <td>0.140625</td>\n",
       "    </tr>\n",
       "    <tr>\n",
       "      <th>12967</th>\n",
       "      <td>8</td>\n",
       "      <td>[back, mom, decided, send, date3, camp, heard,...</td>\n",
       "      <td>40.0</td>\n",
       "      <td>364</td>\n",
       "      <td>4.862637</td>\n",
       "      <td>0.211538</td>\n",
       "    </tr>\n",
       "    <tr>\n",
       "      <th>12968</th>\n",
       "      <td>8</td>\n",
       "      <td>[dont, like, computer]</td>\n",
       "      <td>10.0</td>\n",
       "      <td>3</td>\n",
       "      <td>5.333333</td>\n",
       "      <td>0.000000</td>\n",
       "    </tr>\n",
       "    <tr>\n",
       "      <th>12969</th>\n",
       "      <td>8</td>\n",
       "      <td>[everyone, know, important, laugh, everyone, h...</td>\n",
       "      <td>33.0</td>\n",
       "      <td>366</td>\n",
       "      <td>5.090164</td>\n",
       "      <td>0.133880</td>\n",
       "    </tr>\n",
       "    <tr>\n",
       "      <th>12970</th>\n",
       "      <td>8</td>\n",
       "      <td>[laughter, important, part, family, laugh, tog...</td>\n",
       "      <td>44.0</td>\n",
       "      <td>468</td>\n",
       "      <td>5.117521</td>\n",
       "      <td>0.250000</td>\n",
       "    </tr>\n",
       "    <tr>\n",
       "      <th>12971</th>\n",
       "      <td>8</td>\n",
       "      <td>[laughter, important, part, kind, relationship...</td>\n",
       "      <td>35.0</td>\n",
       "      <td>342</td>\n",
       "      <td>5.152047</td>\n",
       "      <td>0.143275</td>\n",
       "    </tr>\n",
       "    <tr>\n",
       "      <th>12972</th>\n",
       "      <td>8</td>\n",
       "      <td>[sometime, ago, hot, date1, day, num1, person3...</td>\n",
       "      <td>30.0</td>\n",
       "      <td>407</td>\n",
       "      <td>4.840295</td>\n",
       "      <td>0.218673</td>\n",
       "    </tr>\n",
       "    <tr>\n",
       "      <th>12973</th>\n",
       "      <td>8</td>\n",
       "      <td>[story, mother, daughter, either, enemy, frien...</td>\n",
       "      <td>35.0</td>\n",
       "      <td>423</td>\n",
       "      <td>5.278960</td>\n",
       "      <td>0.224586</td>\n",
       "    </tr>\n",
       "    <tr>\n",
       "      <th>12974</th>\n",
       "      <td>8</td>\n",
       "      <td>[never, understood, meaning, laughter, shortes...</td>\n",
       "      <td>32.0</td>\n",
       "      <td>281</td>\n",
       "      <td>4.889680</td>\n",
       "      <td>0.188612</td>\n",
       "    </tr>\n",
       "    <tr>\n",
       "      <th>12975</th>\n",
       "      <td>8</td>\n",
       "      <td>[laugh, caps5, habit, caps1, cause, cause, lau...</td>\n",
       "      <td>40.0</td>\n",
       "      <td>414</td>\n",
       "      <td>5.801932</td>\n",
       "      <td>0.231884</td>\n",
       "    </tr>\n",
       "    <tr>\n",
       "      <th>12976</th>\n",
       "      <td>8</td>\n",
       "      <td>[trippin, fence, num1, year, young, short, num...</td>\n",
       "      <td>40.0</td>\n",
       "      <td>271</td>\n",
       "      <td>5.601476</td>\n",
       "      <td>0.195572</td>\n",
       "    </tr>\n",
       "    <tr>\n",
       "      <th>12977</th>\n",
       "      <td>8</td>\n",
       "      <td>[many, people, believe, laughter, improve, lif...</td>\n",
       "      <td>40.0</td>\n",
       "      <td>232</td>\n",
       "      <td>5.702586</td>\n",
       "      <td>0.112069</td>\n",
       "    </tr>\n",
       "  </tbody>\n",
       "</table>\n",
       "<p>12978 rows × 6 columns</p>\n",
       "</div>"
      ],
      "text/plain": [
       "       essay_set                                              essay  \\\n",
       "0              1  [dear, local, newspaper, think, effect, comput...   \n",
       "1              1  [dear, caps1, caps2, believe, using, computer,...   \n",
       "2              1  [dear, caps1, caps2, caps3, people, use, compu...   \n",
       "3              1  [dear, local, newspaper, caps1, found, many, e...   \n",
       "4              1  [dear, location1, know, computer, ha, positive...   \n",
       "5              1  [dear, location1, think, computer, negative, a...   \n",
       "6              1  [know, people, day, depending, computer, safet...   \n",
       "7              1  [percent1, people, agree, computer, make, life...   \n",
       "8              1  [dear, reader, organization1, ha, dramatic, ef...   \n",
       "9              1  [location1, technology, computer, say, compute...   \n",
       "10             1  [dear, location1, caps1, people, acknowledge, ...   \n",
       "11             1  [dear, caps1, caps2, feel, computer, take, awa...   \n",
       "12             1  [dear, local, newspaper, raed, argument, compu...   \n",
       "13             1  [three, detaileds, news, paper, article, one, ...   \n",
       "14             1  [dear, world, today, everyone, useing, compute...   \n",
       "15             1  [dear, organization1, computer, blinked, life,...   \n",
       "16             1  [dear, local, newspaper, belive, computer, neg...   \n",
       "17             1  [dear, local, newspaper, must, admit, expert, ...   \n",
       "18             1  [aegre, waf, evansmant, tnachnolage, evansmant...   \n",
       "19             1  [well, computer, good, bad, thing, caps1, real...   \n",
       "20             1  [dear, caps1, caps2, caps3, daily, writing, ad...   \n",
       "21             1  [dear, local, newspaper, caps1, take, computer...   \n",
       "22             1  [dear, local, newspaper, caps1, ever, see, chi...   \n",
       "23             1  [dear, local, newspaper, 've, heard, many, peo...   \n",
       "24             1  [dear, caps1, caps2, beileve, computer, helpfu...   \n",
       "25             1  [think, computer, useless, think, could, usefu...   \n",
       "26             1  [computer, good, get, infermation, play, game,...   \n",
       "27             1  [dear, newspaper, computer, high, tec, expande...   \n",
       "28             1  [dear, local, newspaper, caps1, people, throug...   \n",
       "29             1  [dear, newspaper, people, think, computer, ben...   \n",
       "...          ...                                                ...   \n",
       "12948          8  [understand, benefit, laughter, laughter, defi...   \n",
       "12949          8  [wa, midsummer, could, feel, cool, ocean, bree...   \n",
       "12950          8  [ever, experienced, time, friend, family, laug...   \n",
       "12951          8  [woke, like, day, happy, yet, lacking, sleep, ...   \n",
       "12952          8  [laughter, important, part, life, either, frie...   \n",
       "12953          8  [sat, table, speechless, told, story, caps1, l...   \n",
       "12954          8  [remember, back, wa, date1, wa, hot, humid, da...   \n",
       "12955          8  [eye, wa, like, wa, looking, warm, carribean, ...   \n",
       "12956          8  [say, laugh, common, language, people, people,...   \n",
       "12957          8  [laughter, integral, element, many, situation,...   \n",
       "12958          8  [one, time, wa, friend, person1, house, dog, p...   \n",
       "12959          8  [laughter, caps1, know, laughter, healing, med...   \n",
       "12960          8  [one, thing, people, world, love, laugh, like,...   \n",
       "12961          8  [laughter, important, aspect, relationship, an...   \n",
       "12962          8  [people, always, say, worst, part, life, sad, ...   \n",
       "12963          8  [people, look, back, something, laugh, action,...   \n",
       "12964          8  [best, friend, moved, away, would, stay, night...   \n",
       "12965          8  [organization1, date1, caps1, birthday, went, ...   \n",
       "12966          8  [morose, somnolent, woke, woke, location1, goi...   \n",
       "12967          8  [back, mom, decided, send, date3, camp, heard,...   \n",
       "12968          8                             [dont, like, computer]   \n",
       "12969          8  [everyone, know, important, laugh, everyone, h...   \n",
       "12970          8  [laughter, important, part, family, laugh, tog...   \n",
       "12971          8  [laughter, important, part, kind, relationship...   \n",
       "12972          8  [sometime, ago, hot, date1, day, num1, person3...   \n",
       "12973          8  [story, mother, daughter, either, enemy, frien...   \n",
       "12974          8  [never, understood, meaning, laughter, shortes...   \n",
       "12975          8  [laugh, caps5, habit, caps1, cause, cause, lau...   \n",
       "12976          8  [trippin, fence, num1, year, young, short, num...   \n",
       "12977          8  [many, people, believe, laughter, improve, lif...   \n",
       "\n",
       "       domain1_score  essay_words  essay_len_words  spell_check  \n",
       "0                8.0          157         5.891720     0.184713  \n",
       "1                9.0          218         5.623853     0.211009  \n",
       "2                7.0          139         5.805755     0.158273  \n",
       "3               10.0          299         6.180602     0.287625  \n",
       "4                8.0          223         5.802691     0.134529  \n",
       "5                8.0          106         5.650943     0.198113  \n",
       "6               10.0          261         5.708812     0.107280  \n",
       "7               10.0          252         5.821429     0.178571  \n",
       "8                9.0          225         5.506667     0.137778  \n",
       "9                9.0          227         5.365639     0.202643  \n",
       "10               8.0          183         6.185792     0.169399  \n",
       "11               8.0          199         5.648241     0.231156  \n",
       "12               7.0           93         5.225806     0.172043  \n",
       "13               6.0          167         5.311377     0.209581  \n",
       "14               6.0           95         5.694737     0.189474  \n",
       "15              12.0          309         6.051780     0.168285  \n",
       "16               8.0          145         5.524138     0.151724  \n",
       "17               8.0          169         5.372781     0.118343  \n",
       "18               4.0           37         5.972973     0.810811  \n",
       "19               6.0           89         5.584270     0.146067  \n",
       "20               8.0          182         5.912088     0.137363  \n",
       "21               3.0           31         5.677419     0.096774  \n",
       "22              10.0          262         5.549618     0.209924  \n",
       "23              11.0          298         5.872483     0.224832  \n",
       "24               8.0          148         6.000000     0.148649  \n",
       "25               9.0          177         5.819209     0.220339  \n",
       "26               4.0           61         5.147541     0.262295  \n",
       "27               9.0          200         5.565000     0.175000  \n",
       "28               9.0          171         5.941520     0.216374  \n",
       "29               8.0          137         5.547445     0.153285  \n",
       "...              ...          ...              ...          ...  \n",
       "12948           40.0          232         5.698276     0.073276  \n",
       "12949           32.0          277         5.057762     0.129964  \n",
       "12950           36.0          184         5.206522     0.125000  \n",
       "12951           31.0          189         4.814815     0.137566  \n",
       "12952           30.0          196         5.163265     0.193878  \n",
       "12953           47.0          429         5.062937     0.179487  \n",
       "12954           40.0          217         5.092166     0.175115  \n",
       "12955           35.0          232         5.116379     0.168103  \n",
       "12956           33.0          240         5.720833     0.200000  \n",
       "12957           36.0          144         5.951389     0.111111  \n",
       "12958           36.0          206         4.878641     0.203883  \n",
       "12959           48.0          417         5.649880     0.179856  \n",
       "12960           40.0          261         5.854406     0.030651  \n",
       "12961           40.0          305         6.059016     0.088525  \n",
       "12962           40.0          412         5.317961     0.099515  \n",
       "12963           42.0          430         5.562791     0.225581  \n",
       "12964           40.0          363         5.567493     0.146006  \n",
       "12965           32.0          387         5.049096     0.286822  \n",
       "12966           36.0          320         5.378125     0.140625  \n",
       "12967           40.0          364         4.862637     0.211538  \n",
       "12968           10.0            3         5.333333     0.000000  \n",
       "12969           33.0          366         5.090164     0.133880  \n",
       "12970           44.0          468         5.117521     0.250000  \n",
       "12971           35.0          342         5.152047     0.143275  \n",
       "12972           30.0          407         4.840295     0.218673  \n",
       "12973           35.0          423         5.278960     0.224586  \n",
       "12974           32.0          281         4.889680     0.188612  \n",
       "12975           40.0          414         5.801932     0.231884  \n",
       "12976           40.0          271         5.601476     0.195572  \n",
       "12977           40.0          232         5.702586     0.112069  \n",
       "\n",
       "[12978 rows x 6 columns]"
      ]
     },
     "execution_count": 22,
     "metadata": {},
     "output_type": "execute_result"
    }
   ],
   "source": [
    "file"
   ]
  },
  {
   "cell_type": "markdown",
   "metadata": {},
   "source": [
    "## Performing Pos_tag to find out number of different part of speeches used in essays\n",
    "\n",
    "Considering percentage of adjectives, adpositions, nouns and verbs to determine essay quality. "
   ]
  },
  {
   "cell_type": "code",
   "execution_count": 23,
   "metadata": {
    "collapsed": true
   },
   "outputs": [],
   "source": [
    "tags =[ ]\n",
    "for i in range(0,12978):\n",
    "    j = pos_tag(file['essay'][i], tagset='universal')\n",
    "    tags.append(j)"
   ]
  },
  {
   "cell_type": "code",
   "execution_count": 24,
   "metadata": {
    "collapsed": true
   },
   "outputs": [],
   "source": [
    "count = Counter()"
   ]
  },
  {
   "cell_type": "code",
   "execution_count": 25,
   "metadata": {
    "collapsed": true,
    "scrolled": true
   },
   "outputs": [],
   "source": [
    "for i in range(0,12978):\n",
    "    count[i] = Counter(tag for words,tag in tags[i])"
   ]
  },
  {
   "cell_type": "code",
   "execution_count": 26,
   "metadata": {
    "collapsed": true
   },
   "outputs": [],
   "source": [
    "df = pd.DataFrame(count)"
   ]
  },
  {
   "cell_type": "code",
   "execution_count": 27,
   "metadata": {
    "collapsed": true
   },
   "outputs": [],
   "source": [
    "df=df.transpose()"
   ]
  },
  {
   "cell_type": "code",
   "execution_count": 28,
   "metadata": {},
   "outputs": [
    {
     "data": {
      "text/plain": [
       "Index(['.', 'ADJ', 'ADP', 'ADV', 'CONJ', 'DET', 'NOUN', 'NUM', 'PRON', 'PRT',\n",
       "       'VERB', 'X'],\n",
       "      dtype='object')"
      ]
     },
     "execution_count": 28,
     "metadata": {},
     "output_type": "execute_result"
    }
   ],
   "source": [
    "df.columns"
   ]
  },
  {
   "cell_type": "code",
   "execution_count": 29,
   "metadata": {
    "collapsed": true
   },
   "outputs": [],
   "source": [
    "df['ADJ'] = df['ADJ'] / file['essay_words']"
   ]
  },
  {
   "cell_type": "code",
   "execution_count": 30,
   "metadata": {
    "collapsed": true
   },
   "outputs": [],
   "source": [
    "df['ADV'] = df['ADV']/ file['essay_words']"
   ]
  },
  {
   "cell_type": "code",
   "execution_count": 31,
   "metadata": {
    "collapsed": true
   },
   "outputs": [],
   "source": [
    "df['ADP'] = df['ADP'] / file['essay_words']"
   ]
  },
  {
   "cell_type": "code",
   "execution_count": 32,
   "metadata": {
    "collapsed": true
   },
   "outputs": [],
   "source": [
    "df['CONJ'] = df['CONJ']/file['essay_words']"
   ]
  },
  {
   "cell_type": "code",
   "execution_count": 33,
   "metadata": {
    "collapsed": true
   },
   "outputs": [],
   "source": [
    "df['NOUN'] = df['NOUN'] / file['essay_words']"
   ]
  },
  {
   "cell_type": "code",
   "execution_count": 34,
   "metadata": {
    "collapsed": true
   },
   "outputs": [],
   "source": [
    "df['VERB'] = df['VERB']/ file['essay_words']"
   ]
  },
  {
   "cell_type": "code",
   "execution_count": 35,
   "metadata": {},
   "outputs": [],
   "source": [
    "df = df[['ADJ','ADV','ADP','CONJ','NOUN','VERB']]"
   ]
  },
  {
   "cell_type": "code",
   "execution_count": 36,
   "metadata": {
    "collapsed": true
   },
   "outputs": [],
   "source": [
    "df = df.fillna(0)"
   ]
  },
  {
   "cell_type": "code",
   "execution_count": 37,
   "metadata": {
    "collapsed": true
   },
   "outputs": [],
   "source": [
    "file = pd.concat([file,df], axis =1)"
   ]
  },
  {
   "cell_type": "markdown",
   "metadata": {},
   "source": [
    "## Model 1"
   ]
  },
  {
   "cell_type": "code",
   "execution_count": 38,
   "metadata": {},
   "outputs": [
    {
     "name": "stdout",
     "output_type": "stream",
     "text": [
      "For linear regression:\n",
      "MAE: 0.6820531124959385\n",
      "MSE: 0.7415031177083967\n",
      "RMSE: 0.8611057529179542\n",
      "0.6683636726856831\n",
      "For XGBoost:\n",
      "MAE: 0.6820531124959385\n",
      "MSE: 0.7415031177083967\n",
      "RMSE: 0.8611057529179542\n",
      "0.7118395190594298\n"
     ]
    },
    {
     "data": {
      "text/plain": [
       "<matplotlib.axes._subplots.AxesSubplot at 0x1ef559801d0>"
      ]
     },
     "execution_count": 38,
     "metadata": {},
     "output_type": "execute_result"
    },
    {
     "data": {
      "image/png": "[encoded data removed]",
      "text/plain": [
       "<matplotlib.figure.Figure at 0x1ef559eabe0>"
      ]
     },
     "metadata": {},
     "output_type": "display_data"
    }
   ],
   "source": [
    "file_1 = file[file['essay_set']==1]\n",
    "X_train, X_test, y_train, y_test = train_test_split(file_1[['essay_words','essay_len_words','spell_check','ADJ', 'ADV','ADP','CONJ','NOUN','VERB']], file_1['domain1_score'], test_size=0.33, random_state=42)\n",
    "X_train.head()\n",
    "y_train.head()\n",
    "\n",
    "lm = LinearRegression()\n",
    "\n",
    "lm.fit(X_train,y_train)\n",
    "\n",
    "predictions=lm.predict(X_test)\n",
    "\n",
    "print('For linear regression:')\n",
    "print('MAE:', metrics.mean_absolute_error(y_test, predictions))\n",
    "print('MSE:', metrics.mean_squared_error(y_test, predictions))\n",
    "print('RMSE:', np.sqrt(metrics.mean_squared_error(y_test, predictions)))\n",
    "print(metrics.r2_score(y_test,predictions))\n",
    "\n",
    "model = xgb.XGBRegressor()\n",
    "model.fit(X_train,y_train)\n",
    "\n",
    "y_pred = model.predict(X_test)\n",
    "print('For XGBoost:')\n",
    "print('MAE:', metrics.mean_absolute_error(y_test, predictions))\n",
    "print('MSE:', metrics.mean_squared_error(y_test, predictions))\n",
    "print('RMSE:', np.sqrt(metrics.mean_squared_error(y_test, predictions)))\n",
    "print(metrics.r2_score(y_test,y_pred))\n",
    "\n",
    "sns.distplot(y_test-predictions, bins=50, kde=True)"
   ]
  },
  {
   "cell_type": "markdown",
   "metadata": {},
   "source": [
    "## Model 2"
   ]
  },
  {
   "cell_type": "code",
   "execution_count": 39,
   "metadata": {},
   "outputs": [
    {
     "name": "stdout",
     "output_type": "stream",
     "text": [
      "For linear regression:\n",
      "MAE: 0.4260299982782179\n",
      "MSE: 0.2863719759806134\n",
      "RMSE: 0.5351373431004544\n",
      "r2 score: 0.5321528963477115\n",
      "For XGBoost:\n",
      "MAE: 0.4260299982782179\n",
      "MSE: 0.2863719759806134\n",
      "RMSE: 0.5351373431004544\n",
      "r2 score: 0.5296158936207838\n"
     ]
    },
    {
     "data": {
      "text/plain": [
       "<matplotlib.axes._subplots.AxesSubplot at 0x1ef55406400>"
      ]
     },
     "execution_count": 39,
     "metadata": {},
     "output_type": "execute_result"
    },
    {
     "data": {
      "image/png": "[encoded data removed]",
      "text/plain": [
       "<matplotlib.figure.Figure at 0x1ef555de588>"
      ]
     },
     "metadata": {},
     "output_type": "display_data"
    }
   ],
   "source": [
    "file_2 = file[file['essay_set']==2]\n",
    "X_train, X_test, y_train, y_test = train_test_split(file_2[['essay_words','essay_len_words','spell_check','ADJ', 'ADV','ADP','CONJ','NOUN','VERB']], file_2['domain1_score'], test_size=0.33, random_state=42)\n",
    "X_train.head()\n",
    "y_train.head()\n",
    "\n",
    "lm = LinearRegression()\n",
    "\n",
    "lm.fit(X_train,y_train)\n",
    "\n",
    "predictions=lm.predict(X_test)\n",
    "\n",
    "print('For linear regression:')\n",
    "print('MAE:', metrics.mean_absolute_error(y_test, predictions))\n",
    "print('MSE:', metrics.mean_squared_error(y_test, predictions))\n",
    "print('RMSE:', np.sqrt(metrics.mean_squared_error(y_test, predictions)))\n",
    "print('r2 score:',metrics.r2_score(y_test,predictions))\n",
    "\n",
    "model = xgb.XGBRegressor()\n",
    "model.fit(X_train,y_train)\n",
    "\n",
    "y_pred = model.predict(X_test)\n",
    "print('For XGBoost:')\n",
    "print('MAE:', metrics.mean_absolute_error(y_test, predictions))\n",
    "print('MSE:', metrics.mean_squared_error(y_test, predictions))\n",
    "print('RMSE:', np.sqrt(metrics.mean_squared_error(y_test, predictions)))\n",
    "print('r2 score:',metrics.r2_score(y_test,y_pred))\n",
    "\n",
    "sns.distplot(y_test-predictions, bins=50, kde=True)"
   ]
  },
  {
   "cell_type": "markdown",
   "metadata": {},
   "source": [
    "## Model 3"
   ]
  },
  {
   "cell_type": "code",
   "execution_count": 40,
   "metadata": {},
   "outputs": [
    {
     "name": "stdout",
     "output_type": "stream",
     "text": [
      "For linear regression:\n",
      "MAE: 0.4538327340003828\n",
      "MSE: 0.3306921505766769\n",
      "RMSE: 0.5750583888412348\n",
      "r2 score: 0.4791353345887921\n",
      "For XGBoost:\n",
      "MAE: 0.4538327340003828\n",
      "MSE: 0.3306921505766769\n",
      "RMSE: 0.5750583888412348\n",
      "r2 score: 0.4769539308926286\n"
     ]
    },
    {
     "data": {
      "text/plain": [
       "<matplotlib.axes._subplots.AxesSubplot at 0x1ef55609630>"
      ]
     },
     "execution_count": 40,
     "metadata": {},
     "output_type": "execute_result"
    },
    {
     "data": {
      "image/png": "[encoded data removed]",
      "text/plain": [
       "<matplotlib.figure.Figure at 0x1ef55546a58>"
      ]
     },
     "metadata": {},
     "output_type": "display_data"
    }
   ],
   "source": [
    "file_3= file[file['essay_set']==3]\n",
    "X_train, X_test, y_train, y_test = train_test_split(file_3[['essay_words','essay_len_words','spell_check','ADJ', 'ADV','ADP','CONJ','NOUN','VERB']], file_3['domain1_score'], test_size=0.33, random_state=42)\n",
    "X_train.head()\n",
    "y_train.head()\n",
    "\n",
    "lm = LinearRegression()\n",
    "\n",
    "lm.fit(X_train,y_train)\n",
    "\n",
    "predictions=lm.predict(X_test)\n",
    "\n",
    "print('For linear regression:')\n",
    "print('MAE:', metrics.mean_absolute_error(y_test, predictions))\n",
    "print('MSE:', metrics.mean_squared_error(y_test, predictions))\n",
    "print('RMSE:', np.sqrt(metrics.mean_squared_error(y_test, predictions)))\n",
    "print('r2 score:',metrics.r2_score(y_test,predictions))\n",
    "\n",
    "model = xgb.XGBRegressor()\n",
    "model.fit(X_train,y_train)\n",
    "\n",
    "y_pred = model.predict(X_test)\n",
    "print('For XGBoost:')\n",
    "print('MAE:', metrics.mean_absolute_error(y_test, predictions))\n",
    "print('MSE:', metrics.mean_squared_error(y_test, predictions))\n",
    "print('RMSE:', np.sqrt(metrics.mean_squared_error(y_test, predictions)))\n",
    "print('r2 score:',metrics.r2_score(y_test,y_pred))\n",
    "\n",
    "sns.distplot(y_test-predictions, bins=50, kde=True)"
   ]
  },
  {
   "cell_type": "markdown",
   "metadata": {},
   "source": [
    "## Model 4"
   ]
  },
  {
   "cell_type": "code",
   "execution_count": 41,
   "metadata": {},
   "outputs": [
    {
     "name": "stdout",
     "output_type": "stream",
     "text": [
      "For linear regression:\n",
      "MAE: 0.49475817567032515\n",
      "MSE: 0.4012396371086378\n",
      "RMSE: 0.633434793099209\n",
      "r2 score: 0.5571080028076907\n",
      "For XGBoost:\n",
      "MAE: 0.49475817567032515\n",
      "MSE: 0.4012396371086378\n",
      "RMSE: 0.633434793099209\n",
      "r2 score: 0.577285517050055\n"
     ]
    },
    {
     "data": {
      "text/plain": [
       "<matplotlib.axes._subplots.AxesSubplot at 0x1ef557d6668>"
      ]
     },
     "execution_count": 41,
     "metadata": {},
     "output_type": "execute_result"
    },
    {
     "data": {
      "image/png": "[encoded data removed]",
      "text/plain": [
       "<matplotlib.figure.Figure at 0x1ef5585f240>"
      ]
     },
     "metadata": {},
     "output_type": "display_data"
    }
   ],
   "source": [
    "file_4 = file[file['essay_set']==4]\n",
    "X_train, X_test, y_train, y_test = train_test_split(file_4[['essay_words','essay_len_words','spell_check','ADJ', 'ADV','ADP','CONJ','NOUN','VERB']], file_4['domain1_score'], test_size=0.33, random_state=42)\n",
    "X_train.head()\n",
    "y_train = y_train.fillna(0)\n",
    "lm = LinearRegression()\n",
    "\n",
    "lm.fit(X_train,y_train)\n",
    "\n",
    "predictions=lm.predict(X_test)\n",
    "\n",
    "print('For linear regression:')\n",
    "print('MAE:', metrics.mean_absolute_error(y_test, predictions))\n",
    "print('MSE:', metrics.mean_squared_error(y_test, predictions))\n",
    "print('RMSE:', np.sqrt(metrics.mean_squared_error(y_test, predictions)))\n",
    "print('r2 score:',metrics.r2_score(y_test,predictions))\n",
    "\n",
    "model = xgb.XGBRegressor()\n",
    "model.fit(X_train,y_train)\n",
    "\n",
    "y_pred = model.predict(X_test)\n",
    "print('For XGBoost:')\n",
    "print('MAE:', metrics.mean_absolute_error(y_test, predictions))\n",
    "print('MSE:', metrics.mean_squared_error(y_test, predictions))\n",
    "print('RMSE:', np.sqrt(metrics.mean_squared_error(y_test, predictions)))\n",
    "print('r2 score:',metrics.r2_score(y_test,y_pred))\n",
    "\n",
    "sns.distplot(y_test-predictions, bins=50, kde=True)"
   ]
  },
  {
   "cell_type": "markdown",
   "metadata": {},
   "source": [
    "## Model 5"
   ]
  },
  {
   "cell_type": "code",
   "execution_count": 42,
   "metadata": {},
   "outputs": [
    {
     "name": "stdout",
     "output_type": "stream",
     "text": [
      "For linear regression:\n",
      "MAE: 0.4211544723735101\n",
      "MSE: 0.2965573718703995\n",
      "RMSE: 0.5445708143762384\n",
      "r2 score: 0.66935163655611\n",
      "For XGBoost:\n",
      "MAE: 0.4211544723735101\n",
      "MSE: 0.2965573718703995\n",
      "RMSE: 0.5445708143762384\n",
      "r2 score: 0.6823461320856226\n"
     ]
    },
    {
     "data": {
      "text/plain": [
       "<matplotlib.axes._subplots.AxesSubplot at 0x1ef558ffcf8>"
      ]
     },
     "execution_count": 42,
     "metadata": {},
     "output_type": "execute_result"
    },
    {
     "data": {
      "image/png": "[encoded data removed]",
      "text/plain": [
       "<matplotlib.figure.Figure at 0x1ef558a7438>"
      ]
     },
     "metadata": {},
     "output_type": "display_data"
    }
   ],
   "source": [
    "file_5 = file[file['essay_set']==5]\n",
    "X_train, X_test, y_train, y_test = train_test_split(file_5[['essay_words','essay_len_words','spell_check','ADJ', 'ADV','ADP','CONJ','NOUN','VERB']], file_5['domain1_score'], test_size=0.33, random_state=42)\n",
    "X_train.head()\n",
    "y_train.head()\n",
    "\n",
    "lm = LinearRegression()\n",
    "\n",
    "lm.fit(X_train,y_train)\n",
    "\n",
    "predictions=lm.predict(X_test)\n",
    "print('For linear regression:')\n",
    "print('MAE:', metrics.mean_absolute_error(y_test, predictions))\n",
    "print('MSE:', metrics.mean_squared_error(y_test, predictions))\n",
    "print('RMSE:', np.sqrt(metrics.mean_squared_error(y_test, predictions)))\n",
    "print('r2 score:',metrics.r2_score(y_test,predictions))\n",
    "\n",
    "model = xgb.XGBRegressor()\n",
    "model.fit(X_train,y_train)\n",
    "\n",
    "y_pred = model.predict(X_test)\n",
    "print('For XGBoost:')\n",
    "print('MAE:', metrics.mean_absolute_error(y_test, predictions))\n",
    "print('MSE:', metrics.mean_squared_error(y_test, predictions))\n",
    "print('RMSE:', np.sqrt(metrics.mean_squared_error(y_test, predictions)))\n",
    "print('r2 score:',metrics.r2_score(y_test,y_pred))\n",
    "\n",
    "sns.distplot(y_test-predictions, bins=50, kde=True)"
   ]
  },
  {
   "cell_type": "markdown",
   "metadata": {},
   "source": [
    "## Model 6"
   ]
  },
  {
   "cell_type": "code",
   "execution_count": 43,
   "metadata": {},
   "outputs": [
    {
     "name": "stdout",
     "output_type": "stream",
     "text": [
      "For linear regression:\n",
      "MAE: 0.4996709568704728\n",
      "MSE: 0.40111189549616105\n",
      "RMSE: 0.6333339525843859\n",
      "r2 score: 0.5694192767631204\n",
      "For XGBoost:\n",
      "MAE: 0.4996709568704728\n",
      "MSE: 0.40111189549616105\n",
      "RMSE: 0.6333339525843859\n",
      "r2 score: 0.5803132974176897\n"
     ]
    },
    {
     "data": {
      "text/plain": [
       "<matplotlib.axes._subplots.AxesSubplot at 0x1ef55d91f28>"
      ]
     },
     "execution_count": 43,
     "metadata": {},
     "output_type": "execute_result"
    },
    {
     "data": {
      "image/png": "[encoded data removed]",
      "text/plain": [
       "<matplotlib.figure.Figure at 0x1ef55d37160>"
      ]
     },
     "metadata": {},
     "output_type": "display_data"
    }
   ],
   "source": [
    "file_6 = file[file['essay_set']==6]\n",
    "X_train, X_test, y_train, y_test = train_test_split(file_6[['essay_words','essay_len_words','spell_check','ADJ', 'ADV','ADP','CONJ','NOUN','VERB']], file_6['domain1_score'], test_size=0.33, random_state=42)\n",
    "X_train.head()\n",
    "y_train.head()\n",
    "\n",
    "lm = LinearRegression()\n",
    "\n",
    "lm.fit(X_train,y_train)\n",
    "\n",
    "predictions=lm.predict(X_test)\n",
    "print('For linear regression:')\n",
    "print('MAE:', metrics.mean_absolute_error(y_test, predictions))\n",
    "print('MSE:', metrics.mean_squared_error(y_test, predictions))\n",
    "print('RMSE:', np.sqrt(metrics.mean_squared_error(y_test, predictions)))\n",
    "print('r2 score:',metrics.r2_score(y_test,predictions))\n",
    "\n",
    "model = xgb.XGBRegressor()\n",
    "model.fit(X_train,y_train)\n",
    "\n",
    "y_pred = model.predict(X_test)\n",
    "print('For XGBoost:')\n",
    "print('MAE:', metrics.mean_absolute_error(y_test, predictions))\n",
    "print('MSE:', metrics.mean_squared_error(y_test, predictions))\n",
    "print('RMSE:', np.sqrt(metrics.mean_squared_error(y_test, predictions)))\n",
    "print('r2 score:',metrics.r2_score(y_test,y_pred))\n",
    "\n",
    "sns.distplot(y_test-predictions, bins=50, kde=True)"
   ]
  },
  {
   "cell_type": "markdown",
   "metadata": {},
   "source": [
    "## Model 7"
   ]
  },
  {
   "cell_type": "code",
   "execution_count": 44,
   "metadata": {},
   "outputs": [
    {
     "name": "stdout",
     "output_type": "stream",
     "text": [
      "For linear regression:\n",
      "MAE: 2.583739200521344\n",
      "MSE: 10.238818787525934\n",
      "RMSE: 3.1998154302281145\n",
      "r2 score: 0.5171842117561478\n",
      "For XGBoost:\n",
      "MAE: 2.583739200521344\n",
      "MSE: 10.238818787525934\n",
      "RMSE: 3.1998154302281145\n",
      "r2 score: 0.5834939347789111\n"
     ]
    },
    {
     "data": {
      "text/plain": [
       "<matplotlib.axes._subplots.AxesSubplot at 0x1ef55e73a58>"
      ]
     },
     "execution_count": 44,
     "metadata": {},
     "output_type": "execute_result"
    },
    {
     "data": {
      "image/png": "[encoded data removed]",
      "text/plain": [
       "<matplotlib.figure.Figure at 0x1ef55deac88>"
      ]
     },
     "metadata": {},
     "output_type": "display_data"
    }
   ],
   "source": [
    "file_7 = file[file['essay_set']==7]\n",
    "X_train, X_test, y_train, y_test = train_test_split(file_7[['essay_words','essay_len_words','spell_check','ADJ', 'ADV','ADP','CONJ','NOUN','VERB']], file_7['domain1_score'], test_size=0.33, random_state=42)\n",
    "X_train.head()\n",
    "y_train.head()\n",
    "\n",
    "lm = LinearRegression()\n",
    "\n",
    "lm.fit(X_train,y_train)\n",
    "\n",
    "predictions=lm.predict(X_test)\n",
    "print('For linear regression:')\n",
    "print('MAE:', metrics.mean_absolute_error(y_test, predictions))\n",
    "print('MSE:', metrics.mean_squared_error(y_test, predictions))\n",
    "print('RMSE:', np.sqrt(metrics.mean_squared_error(y_test, predictions)))\n",
    "print('r2 score:',metrics.r2_score(y_test,predictions))\n",
    "\n",
    "model = xgb.XGBRegressor()\n",
    "model.fit(X_train,y_train)\n",
    "\n",
    "y_pred = model.predict(X_test)\n",
    "print('For XGBoost:')\n",
    "print('MAE:', metrics.mean_absolute_error(y_test, predictions))\n",
    "print('MSE:', metrics.mean_squared_error(y_test, predictions))\n",
    "print('RMSE:', np.sqrt(metrics.mean_squared_error(y_test, predictions)))\n",
    "print('r2 score:',metrics.r2_score(y_test,y_pred))\n",
    "\n",
    "sns.distplot(y_test-predictions, bins=50, kde=True)"
   ]
  },
  {
   "cell_type": "markdown",
   "metadata": {},
   "source": [
    "## Model 8"
   ]
  },
  {
   "cell_type": "code",
   "execution_count": 45,
   "metadata": {},
   "outputs": [
    {
     "name": "stdout",
     "output_type": "stream",
     "text": [
      "For linear regression:\n",
      "MAE: 3.4648428312339283\n",
      "MSE: 19.456024570731838\n",
      "RMSE: 4.410898385899616\n",
      "r2 score: 0.34289168523962876\n",
      "For XGBoost:\n",
      "MAE: 3.4648428312339283\n",
      "MSE: 19.456024570731838\n",
      "RMSE: 4.410898385899616\n",
      "r2 score: 0.3124808687420557\n"
     ]
    },
    {
     "data": {
      "text/plain": [
       "<matplotlib.axes._subplots.AxesSubplot at 0x1ef56f18908>"
      ]
     },
     "execution_count": 45,
     "metadata": {},
     "output_type": "execute_result"
    },
    {
     "data": {
      "image/png": "[encoded data removed]",
      "text/plain": [
       "<matplotlib.figure.Figure at 0x1ef55ee1f28>"
      ]
     },
     "metadata": {},
     "output_type": "display_data"
    }
   ],
   "source": [
    "file_8 = file[file['essay_set']==8]\n",
    "X_train, X_test, y_train, y_test = train_test_split(file_8[['essay_words','essay_len_words','spell_check','ADJ', 'ADV','ADP','CONJ','NOUN','VERB']], file_8['domain1_score'], test_size=0.33, random_state=42)\n",
    "X_train.head()\n",
    "y_train.head()\n",
    "\n",
    "lm = LinearRegression()\n",
    "\n",
    "lm.fit(X_train,y_train)\n",
    "\n",
    "predictions=lm.predict(X_test)\n",
    "print('For linear regression:')\n",
    "print('MAE:', metrics.mean_absolute_error(y_test, predictions))\n",
    "print('MSE:', metrics.mean_squared_error(y_test, predictions))\n",
    "print('RMSE:', np.sqrt(metrics.mean_squared_error(y_test, predictions)))\n",
    "print('r2 score:',metrics.r2_score(y_test,predictions))\n",
    "\n",
    "model = xgb.XGBRegressor()\n",
    "model.fit(X_train,y_train)\n",
    "\n",
    "y_pred = model.predict(X_test)\n",
    "print('For XGBoost:')\n",
    "print('MAE:', metrics.mean_absolute_error(y_test, predictions))\n",
    "print('MSE:', metrics.mean_squared_error(y_test, predictions))\n",
    "print('RMSE:', np.sqrt(metrics.mean_squared_error(y_test, predictions)))\n",
    "print('r2 score:',metrics.r2_score(y_test,y_pred))\n",
    "\n",
    "sns.distplot(y_test-predictions, bins=50, kde=True)"
   ]
  },
  {
   "cell_type": "markdown",
   "metadata": {},
   "source": [
    "## Overall Evaluation of models\n",
    "\n",
    "I have applied linear regression and xgboost regrssion on all the models but there is tremendous diffefrence between obtained scores of models. Model1, model5, model6 worked significantly well than other models. That shows there are other factors which we should consider to get more accurate scores. \n",
    "\n",
    "## Future scope\n",
    "There is tremendous future scope as analysis done at this stage is basic and factors considered are basic features. Building neural networks by using libraries like Pytorch, tensorflow will definitely give us better results.\n"
   ]
  },
  {
   "cell_type": "markdown",
   "metadata": {},
   "source": [
    "## Thank You! This was a great learning experience."
   ]
  }
 ],
 "metadata": {
  "kernelspec": {
   "display_name": "Python 3",
   "language": "python",
   "name": "python3"
  },
  "language_info": {
   "codemirror_mode": {
    "name": "ipython",
    "version": 3
   },
   "file_extension": ".py",
   "mimetype": "text/x-python",
   "name": "python",
   "nbconvert_exporter": "python",
   "pygments_lexer": "ipython3",
   "version": "3.5.5"
  }
 },
 "nbformat": 4,
 "nbformat_minor": 2
}
